{
  "nbformat": 4,
  "nbformat_minor": 0,
  "metadata": {
    "kernelspec": {
      "display_name": "Python 3",
      "language": "python",
      "name": "python3"
    },
    "language_info": {
      "codemirror_mode": {
        "name": "ipython",
        "version": 3
      },
      "file_extension": ".py",
      "mimetype": "text/x-python",
      "name": "python",
      "nbconvert_exporter": "python",
      "pygments_lexer": "ipython3",
      "version": "3.7.8"
    },
    "colab": {
      "name": "plot_ivf_torch.ipynb",
      "provenance": [],
      "collapsed_sections": []
    },
    "accelerator": "GPU"
  },
  "cells": [
    {
      "cell_type": "code",
      "metadata": {
        "id": "vPa2u6sO753X"
      },
      "source": [
        "%matplotlib inline"
      ],
      "execution_count": 1,
      "outputs": []
    },
    {
      "cell_type": "markdown",
      "metadata": {
        "id": "gQpF1e7J753b"
      },
      "source": [
        "\n",
        "# IVF-Flat approximate nearest neighbors search - PyTorch API\n",
        "\n",
        "The :class:`pykeops.torch.IVF` class supported by KeOps allows us\n",
        "to perform **approximate nearest neighbor search** with four lines of code.\n",
        "It can thus be used to compute a **large-scale** nearest neighbors search **much faster**. The code is based on the IVF-Flat algorithm and uses KeOps' block-sparse reductions to speed up the search by reducing the search space.\n",
        "\n",
        "Euclidean, Manhattan, Angular and Hyperbolic metrics are supported along with custom metrics.\n",
        "\n",
        "<div class=\"alert alert-info\"><h4>Note</h4><p>Hyperbolic and custom metrics require the use of an approximation during the K-Means step to obtain the centroid locations since a closed form expression might not be readily available.</p></div>\n",
        "\n",
        "  \n"
      ]
    },
    {
      "cell_type": "markdown",
      "metadata": {
        "id": "TaH5GxTr753c"
      },
      "source": [
        "## Setup\n",
        "Standard imports:\n",
        "\n"
      ]
    },
    {
      "cell_type": "code",
      "metadata": {
        "id": "eVVKpbGW753c"
      },
      "source": [
        "import time\n",
        "import torch\n",
        "from matplotlib import pyplot as plt\n",
        "#from pykeops.torch import IVF\n",
        "\n",
        "use_cuda = torch.cuda.is_available()\n",
        "device = torch.device('cuda') if use_cuda else torch.device('cpu')\n",
        "dtype = torch.float32 if use_cuda else torch.float64"
      ],
      "execution_count": 6,
      "outputs": []
    },
    {
      "cell_type": "markdown",
      "metadata": {
        "id": "GtpiZ-q4753e"
      },
      "source": [
        "## IVF nearest neighbour search with Euclidean metric\n",
        "First experiment with N=$10^6$ points in dimension D=3 and 5 nearest neighbours\n",
        "\n",
        "\n"
      ]
    },
    {
      "cell_type": "code",
      "metadata": {
        "id": "w_xRXXLn753f"
      },
      "source": [
        "N, D, k = 10**6, 3, 5"
      ],
      "execution_count": 7,
      "outputs": []
    },
    {
      "cell_type": "markdown",
      "metadata": {
        "id": "LkYe4YSQ753f"
      },
      "source": [
        "Define our dataset:\n",
        "\n"
      ]
    },
    {
      "cell_type": "code",
      "metadata": {
        "id": "qFkqpF3H753g"
      },
      "source": [
        "torch.manual_seed(1)\n",
        "x = 0.7 * torch.randn(N, D, dtype=dtype, device=device) + 0.3\n",
        "y = 0.7 * torch.randn(N, D, dtype=dtype, device=device) + 0.3"
      ],
      "execution_count": 8,
      "outputs": []
    },
    {
      "cell_type": "markdown",
      "metadata": {
        "id": "MJnZEZlb753g"
      },
      "source": [
        "Create the IVF class and fit the dataset:\n",
        "\n"
      ]
    },
    {
      "cell_type": "code",
      "metadata": {
        "colab": {
          "base_uri": "https://localhost:8080/"
        },
        "id": "r0uKEYTF753g",
        "outputId": "dbcfef07-dd7c-4e1d-98cc-47edaa9ef303"
      },
      "source": [
        "nn = IVF(k=k)\n",
        "#set the number of clusters in K-Means to 50\n",
        "#set the number of nearest clusters we search over during the final query search to 5\n",
        "nn.fit(x, clusters = 50, a = 5)"
      ],
      "execution_count": 9,
      "outputs": [
        {
          "output_type": "execute_result",
          "data": {
            "text/plain": [
              "<__main__.IVF at 0x7fc220cbc750>"
            ]
          },
          "metadata": {
            "tags": []
          },
          "execution_count": 9
        }
      ]
    },
    {
      "cell_type": "markdown",
      "metadata": {
        "id": "uNM5UD_x753h"
      },
      "source": [
        "Query dataset search\n",
        "\n"
      ]
    },
    {
      "cell_type": "code",
      "metadata": {
        "id": "uYiiJxc_yCyU"
      },
      "source": [
        "approx_nn = nn.kneighbors(y)"
      ],
      "execution_count": 10,
      "outputs": []
    },
    {
      "cell_type": "markdown",
      "metadata": {
        "id": "awldFVOs753j"
      },
      "source": [
        "Now computing the true nearest neighbors with brute force search\n",
        "\n"
      ]
    },
    {
      "cell_type": "code",
      "metadata": {
        "id": "XJ56FXzB753j"
      },
      "source": [
        "true_nn = nn.brute_force(x, y, k=k)"
      ],
      "execution_count": 11,
      "outputs": []
    },
    {
      "cell_type": "markdown",
      "metadata": {
        "id": "qdT8szO9753k"
      },
      "source": [
        "Define the function to compute recall of the nearest neighbors\n"
      ]
    },
    {
      "cell_type": "code",
      "metadata": {
        "id": "hkoH4UaS753l"
      },
      "source": [
        "def accuracy(indices_test, indices_truth):\n",
        "  '''\n",
        "  Compares the test and ground truth indices (rows = KNN for each point in dataset)\n",
        "  Returns accuracy: proportion of correct nearest neighbours\n",
        "  '''\n",
        "  N, k = indices_test.shape\n",
        "  \n",
        "  # Calculate number of correct nearest neighbours\n",
        "  accuracy = 0\n",
        "  for i in range(k):\n",
        "    accuracy += torch.sum(indices_test == indices_truth).float()/N\n",
        "    indices_truth = torch.roll(indices_truth, 1, -1) # Create a rolling window (index positions may not match)\n",
        "  accuracy = float(accuracy/k) # percentage accuracy\n",
        "\n",
        "  return accuracy"
      ],
      "execution_count": 12,
      "outputs": []
    },
    {
      "cell_type": "markdown",
      "metadata": {
        "id": "V_FLgW29753l"
      },
      "source": [
        "Check the performance of our algorithm\n",
        "\n"
      ]
    },
    {
      "cell_type": "code",
      "metadata": {
        "colab": {
          "base_uri": "https://localhost:8080/"
        },
        "id": "kXIoY57u753m",
        "outputId": "88d14e97-0f56-4d17-af6f-be412943c964"
      },
      "source": [
        "print('IVF Recall:', accuracy(approx_nn, true_nn))"
      ],
      "execution_count": 13,
      "outputs": [
        {
          "output_type": "stream",
          "text": [
            "IVF Recall: 0.9830819368362427\n"
          ],
          "name": "stdout"
        }
      ]
    },
    {
      "cell_type": "markdown",
      "metadata": {
        "id": "mHWGG4yO4mN8"
      },
      "source": [
        "Timing the algorithms to observe their performance"
      ]
    },
    {
      "cell_type": "code",
      "metadata": {
        "colab": {
          "base_uri": "https://localhost:8080/"
        },
        "id": "rrumsJ3q4lef",
        "outputId": "89e366cb-8d7b-463b-ed78-6cd2aec6af2a"
      },
      "source": [
        "start=time.time()\n",
        "iters=10\n",
        "\n",
        "#timing KeOps brute force\n",
        "for _ in range(iters):\n",
        "  true_nn = nn.brute_force(x, y, k=k)\n",
        "bf_time = time.time()-start\n",
        "print('KeOps brute force timing for', N, 'points with', D, 'dimensions:', bf_time/iters)\n",
        "\n",
        "#timing IVF\n",
        "nn = IVF(k=k)\n",
        "nn.fit(x)\n",
        "start = time.time()\n",
        "for _ in range(iters):\n",
        "  approx_nn = nn.kneighbors(y)\n",
        "ivf_time = time.time() - start\n",
        "print('KeOps IVF-Flat timing for', N, 'points with', D, 'dimensions:', ivf_time/iters)\n"
      ],
      "execution_count": 14,
      "outputs": [
        {
          "output_type": "stream",
          "text": [
            "KeOps brute force timing for 1000000 points with 3 dimensions: 4.693825650215149\n",
            "KeOps IVF-Flat timing for 1000000 points with 3 dimensions: 0.601522707939148\n"
          ],
          "name": "stdout"
        }
      ]
    },
    {
      "cell_type": "markdown",
      "metadata": {
        "id": "j8joqj-r753m"
      },
      "source": [
        "## IVF nearest neighbors search with angular metric\n",
        "Second experiment with N=$10^6$ points in dimension D=3, with 5 nearest neighbors\n",
        "\n"
      ]
    },
    {
      "cell_type": "code",
      "metadata": {
        "id": "PdjTMuE1753n"
      },
      "source": [
        "torch.manual_seed(1)\n",
        "x = 0.7 * torch.randn(N, D, dtype=dtype, device=device) + 0.3\n",
        "y = 0.7 * torch.randn(N, D, dtype=dtype, device=device) + 0.3\n",
        "\n",
        "#normalising the inputs to have norm of 1\n",
        "x_norm=x/torch.linalg.norm(x,dim=1,keepdim=True)\n",
        "y_norm=y/torch.linalg.norm(y,dim=1,keepdim=True)"
      ],
      "execution_count": 15,
      "outputs": []
    },
    {
      "cell_type": "code",
      "metadata": {
        "id": "JyMhcbF6XR7k"
      },
      "source": [
        "nn = IVF(metric = 'angular')\n",
        "true_nn = nn.brute_force(x_norm, y_norm)"
      ],
      "execution_count": 16,
      "outputs": []
    },
    {
      "cell_type": "code",
      "metadata": {
        "colab": {
          "base_uri": "https://localhost:8080/"
        },
        "id": "fWjVpEuCXWvB",
        "outputId": "f1550d02-0ac6-451c-8760-ac8aa167202a"
      },
      "source": [
        "nn = IVF(metric = 'angular')\n",
        "nn.fit(x_norm)\n",
        "approx_nn = nn.kneighbors(y_norm)\n",
        "print('IVF Recall:', accuracy(approx_nn, true_nn))"
      ],
      "execution_count": 17,
      "outputs": [
        {
          "output_type": "stream",
          "text": [
            "IVF Recall: 0.998617947101593\n"
          ],
          "name": "stdout"
        }
      ]
    },
    {
      "cell_type": "markdown",
      "metadata": {
        "id": "AqYVOtAVYgmd"
      },
      "source": [
        "The IVF class also has an option to automatically normalise all inputs"
      ]
    },
    {
      "cell_type": "code",
      "metadata": {
        "colab": {
          "base_uri": "https://localhost:8080/"
        },
        "id": "OzE6F9EkYfNO",
        "outputId": "dbe30d60-548a-4054-b40c-a79431182853"
      },
      "source": [
        "nn = IVF(metric = 'angular', normalise = True)\n",
        "nn.fit(x)\n",
        "approx_nn = nn.kneighbors(y)\n",
        "print('IVF Recall:', accuracy(approx_nn, true_nn))"
      ],
      "execution_count": 18,
      "outputs": [
        {
          "output_type": "stream",
          "text": [
            "IVF Recall: 0.9986152052879333\n"
          ],
          "name": "stdout"
        }
      ]
    },
    {
      "cell_type": "markdown",
      "metadata": {
        "id": "YZgvkGCzYy2p"
      },
      "source": [
        "There is also an option to use full angular metric \"angular_full\", which uses the full angular metric. \"angular\" simply uses the dot product."
      ]
    },
    {
      "cell_type": "code",
      "metadata": {
        "colab": {
          "base_uri": "https://localhost:8080/"
        },
        "id": "qMr5jpn8ZCAO",
        "outputId": "69b187bb-96e4-416e-e1cf-5852e79243aa"
      },
      "source": [
        "nn = IVF(metric = 'angular_full')\n",
        "nn.fit(x)\n",
        "approx_nn = nn.kneighbors(y)\n",
        "print('IVF Recall:', accuracy(approx_nn, true_nn))"
      ],
      "execution_count": 19,
      "outputs": [
        {
          "output_type": "stream",
          "text": [
            "IVF Recall: 0.9928072094917297\n"
          ],
          "name": "stdout"
        }
      ]
    },
    {
      "cell_type": "markdown",
      "metadata": {
        "id": "8RsIuAPyZGwi"
      },
      "source": [
        "## IVF nearest neighbors search with approximations for K-Means centroids\n",
        "We run two experiment with N=$10^6$ points in dimension D=3, with 5 nearest neighbors. The first uses the hyperbolic metric while the second uses a custom metric."
      ]
    },
    {
      "cell_type": "code",
      "metadata": {
        "id": "-Yju_HG1ZPPU"
      },
      "source": [
        "#hyperbolic data generation\n",
        "torch.manual_seed(1)\n",
        "x = 0.5 + torch.rand(N, D, dtype=dtype, device=device) \n",
        "y = 0.5 + torch.rand(N, D, dtype=dtype, device=device) "
      ],
      "execution_count": 20,
      "outputs": []
    },
    {
      "cell_type": "code",
      "metadata": {
        "colab": {
          "base_uri": "https://localhost:8080/"
        },
        "id": "IqDycMpscBoH",
        "outputId": "36cae4cb-7d2a-4b44-f9a3-42ef6d872918"
      },
      "source": [
        "nn = IVF(metric = 'hyperbolic')\n",
        "#set approx to True\n",
        "#n is the number of times we run gradient descent steps for the approximation, default of 50\n",
        "nn.fit(x, approx = True, n = 50)\n",
        "approx_nn = nn.kneighbors(y)\n",
        "true_nn = nn.brute_force(x, y)\n",
        "print('IVF Recall:', accuracy(approx_nn, true_nn))"
      ],
      "execution_count": 21,
      "outputs": [
        {
          "output_type": "stream",
          "text": [
            "IVF Recall: 0.9897241592407227\n"
          ],
          "name": "stdout"
        }
      ]
    },
    {
      "cell_type": "code",
      "metadata": {
        "id": "Pg5kOKjacttb"
      },
      "source": [
        "#define a custom metric\n",
        "def minkowski(x, y, p = 3):\n",
        "  \"\"\"Returns the computation of a metric\n",
        "  Note the shape of the input tensors the function should accept\n",
        "\n",
        "  Args:\n",
        "    x (tensor): Input dataset of size 1, N, D\n",
        "    y (tensor): Query dataset of size M, 1, D\n",
        "\n",
        "  \"\"\"  \n",
        "  return ((x - y).abs()**p).sum(-1)"
      ],
      "execution_count": 22,
      "outputs": []
    },
    {
      "cell_type": "code",
      "metadata": {
        "colab": {
          "base_uri": "https://localhost:8080/"
        },
        "id": "nIVYuN9Mdpgt",
        "outputId": "4ca63cf6-3b37-4703-cf74-96339d7026fd"
      },
      "source": [
        "#testing custom metric\n",
        "nn = IVF(metric = minkowski)\n",
        "nn.fit(x, approx = True)\n",
        "approx_nn = nn.kneighbors(y)\n",
        "true_nn = nn.brute_force(x, y)\n",
        "print('IVF Recall:', accuracy(approx_nn, true_nn))"
      ],
      "execution_count": 23,
      "outputs": [
        {
          "output_type": "stream",
          "text": [
            "IVF Recall: 0.9897966384887695\n"
          ],
          "name": "stdout"
        }
      ]
    },
    {
      "cell_type": "code",
      "metadata": {
        "id": "8Qoacr6Hk64h"
      },
      "source": [
        ""
      ],
      "execution_count": null,
      "outputs": []
    }
  ]
}