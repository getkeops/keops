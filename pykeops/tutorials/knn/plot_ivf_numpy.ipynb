{
  "nbformat": 4,
  "nbformat_minor": 0,
  "metadata": {
    "kernelspec": {
      "display_name": "Python 3",
      "language": "python",
      "name": "python3"
    },
    "language_info": {
      "codemirror_mode": {
        "name": "ipython",
        "version": 3
      },
      "file_extension": ".py",
      "mimetype": "text/x-python",
      "name": "python",
      "nbconvert_exporter": "python",
      "pygments_lexer": "ipython3",
      "version": "3.7.8"
    },
    "colab": {
      "name": "plot_ivf_numpy.ipynb",
      "provenance": [],
      "collapsed_sections": []
    },
    "accelerator": "GPU"
  },
  "cells": [
    {
      "cell_type": "markdown",
      "metadata": {
        "id": "gQpF1e7J753b"
      },
      "source": [
        "\n",
        "# IVF-Flat approximate nearest neighbors search - Numpy API\n",
        "\n",
        "The :class:`pykeops.torch.IVF` class supported by KeOps allows us\n",
        "to perform **approximate nearest neighbor search** with four lines of code.\n",
        "It can thus be used to compute a **large-scale** nearest neighbors search **much faster**. The code is based on the IVF-Flat algorithm and uses KeOps' block-sparse reductions to speed up the search by reducing the search space.\n",
        "\n",
        "Euclidean, Manhattan and Angular metrics are supported.\n",
        "\n",
        "<div class=\"alert alert-info\"><h4>Note</h4><p>Hyperbolic and custom metrics are not supported in the Numpy API, please use the PyTorch API instead.</p></div>\n",
        "\n",
        "  \n"
      ]
    },
    {
      "cell_type": "markdown",
      "metadata": {
        "id": "TaH5GxTr753c"
      },
      "source": [
        "## Setup\n",
        "Standard imports:\n",
        "\n"
      ]
    },
    {
      "cell_type": "code",
      "metadata": {
        "id": "eVVKpbGW753c"
      },
      "source": [
        "import time\n",
        "import numpy as np\n",
        "from pykeops.numpy import IVF"
      ],
      "execution_count": 4,
      "outputs": []
    },
    {
      "cell_type": "markdown",
      "metadata": {
        "id": "GtpiZ-q4753e"
      },
      "source": [
        "## IVF nearest neighbour search with Euclidean metric\n",
        "First experiment with N=$10^5$ points in dimension D=3 and 5 nearest neighbours\n",
        "\n",
        "\n"
      ]
    },
    {
      "cell_type": "code",
      "metadata": {
        "id": "w_xRXXLn753f"
      },
      "source": [
        "N, D, k = 10**5, 3, 5"
      ],
      "execution_count": 5,
      "outputs": []
    },
    {
      "cell_type": "markdown",
      "metadata": {
        "id": "LkYe4YSQ753f"
      },
      "source": [
        "Define our dataset:\n",
        "\n"
      ]
    },
    {
      "cell_type": "code",
      "metadata": {
        "id": "qFkqpF3H753g"
      },
      "source": [
        "np.random.seed(1)\n",
        "x = 0.7 * np.random.randn(N, D) + 0.3\n",
        "y = 0.7 * np.random.randn(N, D) + 0.3"
      ],
      "execution_count": 6,
      "outputs": []
    },
    {
      "cell_type": "markdown",
      "metadata": {
        "id": "MJnZEZlb753g"
      },
      "source": [
        "Create the IVF class and fit the dataset:\n",
        "\n"
      ]
    },
    {
      "cell_type": "code",
      "metadata": {
        "colab": {
          "base_uri": "https://localhost:8080/"
        },
        "id": "r0uKEYTF753g",
        "outputId": "034abd75-f6d5-4c4e-8a1d-d8a68cf9f19b"
      },
      "source": [
        "nn = IVF(k=k)\n",
        "#set the number of clusters in K-Means to 50\n",
        "#set the number of nearest clusters we search over during the final query search to 5\n",
        "nn.fit(x, clusters = 50, a = 5)"
      ],
      "execution_count": 7,
      "outputs": [
        {
          "output_type": "execute_result",
          "data": {
            "text/plain": [
              "<__main__.IVF at 0x7f8657401110>"
            ]
          },
          "metadata": {
            "tags": []
          },
          "execution_count": 7
        }
      ]
    },
    {
      "cell_type": "markdown",
      "metadata": {
        "id": "uNM5UD_x753h"
      },
      "source": [
        "Query dataset search\n",
        "\n"
      ]
    },
    {
      "cell_type": "code",
      "metadata": {
        "id": "uYiiJxc_yCyU"
      },
      "source": [
        "approx_nn = nn.kneighbors(y)"
      ],
      "execution_count": 8,
      "outputs": []
    },
    {
      "cell_type": "markdown",
      "metadata": {
        "id": "awldFVOs753j"
      },
      "source": [
        "Now computing the true nearest neighbors with brute force search\n",
        "\n"
      ]
    },
    {
      "cell_type": "code",
      "metadata": {
        "id": "XJ56FXzB753j"
      },
      "source": [
        "true_nn = nn.brute_force(x, y, k=k)"
      ],
      "execution_count": 9,
      "outputs": []
    },
    {
      "cell_type": "markdown",
      "metadata": {
        "id": "qdT8szO9753k"
      },
      "source": [
        "Define the function to compute recall of the nearest neighbors\n"
      ]
    },
    {
      "cell_type": "code",
      "metadata": {
        "id": "hkoH4UaS753l"
      },
      "source": [
        "def accuracy(indices_test, indices_truth):\n",
        "  '''\n",
        "  Compares the test and ground truth indices (rows = KNN for each point in dataset)\n",
        "  Returns accuracy: proportion of correct nearest neighbours\n",
        "  '''\n",
        "  N, k = indices_test.shape\n",
        "  \n",
        "  # Calculate number of correct nearest neighbours\n",
        "  accuracy = 0\n",
        "  for i in range(k):\n",
        "    accuracy += float(np.sum(indices_test == indices_truth))/N\n",
        "    indices_truth = np.roll(indices_truth, 1, -1) # Create a rolling window (index positions may not match)\n",
        "  accuracy = float(accuracy/k) # percentage accuracy\n",
        "\n",
        "  return accuracy"
      ],
      "execution_count": 10,
      "outputs": []
    },
    {
      "cell_type": "markdown",
      "metadata": {
        "id": "V_FLgW29753l"
      },
      "source": [
        "Check the performance of our algorithm\n",
        "\n"
      ]
    },
    {
      "cell_type": "code",
      "metadata": {
        "colab": {
          "base_uri": "https://localhost:8080/"
        },
        "id": "kXIoY57u753m",
        "outputId": "be568c38-661a-4639-b44f-e40a2b99114a"
      },
      "source": [
        "print('IVF Recall:', accuracy(approx_nn, true_nn))"
      ],
      "execution_count": 11,
      "outputs": [
        {
          "output_type": "stream",
          "text": [
            "IVF Recall: 0.9652399999999999\n"
          ],
          "name": "stdout"
        }
      ]
    },
    {
      "cell_type": "markdown",
      "metadata": {
        "id": "mHWGG4yO4mN8"
      },
      "source": [
        "Timing the algorithms to observe their performance"
      ]
    },
    {
      "cell_type": "code",
      "metadata": {
        "colab": {
          "base_uri": "https://localhost:8080/"
        },
        "id": "rrumsJ3q4lef",
        "outputId": "629889c2-3cb7-43cf-c2c2-50e19c95a402"
      },
      "source": [
        "start=time.time()\n",
        "iters=10\n",
        "\n",
        "#timing KeOps brute force\n",
        "for _ in range(iters):\n",
        "  true_nn = nn.brute_force(x, y, k=k)\n",
        "bf_time = time.time()-start\n",
        "print('KeOps brute force timing for', N, 'points with', D, 'dimensions:', bf_time/iters)\n",
        "\n",
        "#timing IVF\n",
        "nn = IVF(k=k)\n",
        "nn.fit(x)\n",
        "start = time.time()\n",
        "for _ in range(iters):\n",
        "  approx_nn = nn.kneighbors(y)\n",
        "ivf_time = time.time() - start\n",
        "print('KeOps IVF-Flat timing for', N, 'points with', D, 'dimensions:', ivf_time/iters)\n"
      ],
      "execution_count": 12,
      "outputs": [
        {
          "output_type": "stream",
          "text": [
            "KeOps brute force timing for 100000 points with 3 dimensions: 0.21520822048187255\n",
            "KeOps IVF-Flat timing for 100000 points with 3 dimensions: 0.05834429264068604\n"
          ],
          "name": "stdout"
        }
      ]
    },
    {
      "cell_type": "markdown",
      "metadata": {
        "id": "j8joqj-r753m"
      },
      "source": [
        "## IVF nearest neighbors search with angular metric\n",
        "Second experiment with N=$10^5$ points in dimension D=3, with 5 nearest neighbors\n",
        "\n"
      ]
    },
    {
      "cell_type": "code",
      "metadata": {
        "id": "PdjTMuE1753n"
      },
      "source": [
        "np.random.seed(1)\n",
        "x = 0.7 * np.random.randn(N, D) + 0.3\n",
        "y = 0.7 * np.random.randn(N, D) + 0.3\n",
        "\n",
        "#normalising the inputs to have norm of 1\n",
        "x_norm = x / np.linalg.norm(x, axis=1, keepdims=True)\n",
        "y_norm = y / np.linalg.norm(x, axis=1, keepdims=True)"
      ],
      "execution_count": 13,
      "outputs": []
    },
    {
      "cell_type": "code",
      "metadata": {
        "id": "JyMhcbF6XR7k"
      },
      "source": [
        "nn = IVF(metric = 'angular')\n",
        "true_nn = nn.brute_force(x_norm, y_norm)"
      ],
      "execution_count": 14,
      "outputs": []
    },
    {
      "cell_type": "code",
      "metadata": {
        "colab": {
          "base_uri": "https://localhost:8080/"
        },
        "id": "fWjVpEuCXWvB",
        "outputId": "fda9d458-d497-4e67-ec22-36bef77a7f5f"
      },
      "source": [
        "nn = IVF(metric = 'angular')\n",
        "nn.fit(x_norm)\n",
        "approx_nn = nn.kneighbors(y_norm)\n",
        "print('IVF Recall:', accuracy(approx_nn, true_nn))"
      ],
      "execution_count": 15,
      "outputs": [
        {
          "output_type": "stream",
          "text": [
            "IVF Recall: 0.9958119999999999\n"
          ],
          "name": "stdout"
        }
      ]
    },
    {
      "cell_type": "markdown",
      "metadata": {
        "id": "AqYVOtAVYgmd"
      },
      "source": [
        "The IVF class also has an option to automatically normalise all inputs"
      ]
    },
    {
      "cell_type": "code",
      "metadata": {
        "colab": {
          "base_uri": "https://localhost:8080/"
        },
        "id": "OzE6F9EkYfNO",
        "outputId": "a50dba76-d121-40a6-fd3b-00e03b24585b"
      },
      "source": [
        "nn = IVF(metric = 'angular', normalise = True)\n",
        "nn.fit(x)\n",
        "approx_nn = nn.kneighbors(y)\n",
        "print('IVF Recall:', accuracy(approx_nn, true_nn))"
      ],
      "execution_count": 16,
      "outputs": [
        {
          "output_type": "stream",
          "text": [
            "IVF Recall: 0.9958119999999999\n"
          ],
          "name": "stdout"
        }
      ]
    },
    {
      "cell_type": "markdown",
      "metadata": {
        "id": "YZgvkGCzYy2p"
      },
      "source": [
        "There is also an option to use full angular metric \"angular_full\", which uses the full angular metric. \"angular\" simply uses the dot product."
      ]
    },
    {
      "cell_type": "code",
      "metadata": {
        "colab": {
          "base_uri": "https://localhost:8080/"
        },
        "id": "qMr5jpn8ZCAO",
        "outputId": "3fe0a152-eff7-490c-9f3b-b3707bf81571"
      },
      "source": [
        "nn = IVF(metric = 'angular_full')\n",
        "nn.fit(x)\n",
        "approx_nn = nn.kneighbors(y)\n",
        "print('IVF Recall:', accuracy(approx_nn, true_nn))"
      ],
      "execution_count": 17,
      "outputs": [
        {
          "output_type": "stream",
          "text": [
            "IVF Recall: 0.995626\n"
          ],
          "name": "stdout"
        }
      ]
    },
    {
      "cell_type": "code",
      "metadata": {
        "id": "8Qoacr6Hk64h"
      },
      "source": [
        ""
      ],
      "execution_count": null,
      "outputs": []
    }
  ]
}